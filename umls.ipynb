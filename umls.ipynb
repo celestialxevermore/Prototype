{
 "cells": [
  {
   "cell_type": "code",
   "execution_count": 18,
   "metadata": {},
   "outputs": [
    {
     "name": "stdout",
     "output_type": "stream",
     "text": [
      "200\n",
      "{'administeredBy': ['https://data.bioontology.org/users/MFAmith', 'https://data.bioontology.org/users/taocui'], 'acronym': 'OCHV', 'name': 'Ontology of Consumer Health Vocabulary', 'summaryOnly': False, 'flat': None, 'ontologyType': 'https://data.bioontology.org/ontology_types/ONTOLOGY', '@id': 'https://data.bioontology.org/ontologies/OCHV', '@type': 'http://data.bioontology.org/metadata/Ontology', 'links': {'submissions': 'https://data.bioontology.org/ontologies/OCHV/submissions', 'properties': 'https://data.bioontology.org/ontologies/OCHV/properties', 'classes': 'https://data.bioontology.org/ontologies/OCHV/classes', 'single_class': 'https://data.bioontology.org/ontologies/OCHV/classes/{class_id}', 'roots': 'https://data.bioontology.org/ontologies/OCHV/classes/roots', 'instances': 'https://data.bioontology.org/ontologies/OCHV/instances', 'metrics': 'https://data.bioontology.org/ontologies/OCHV/metrics', 'reviews': 'https://data.bioontology.org/ontologies/OCHV/reviews', 'notes': 'https://data.bioontology.org/ontologies/OCHV/notes', 'groups': 'https://data.bioontology.org/ontologies/OCHV/groups', 'categories': 'https://data.bioontology.org/ontologies/OCHV/categories', 'latest_submission': 'https://data.bioontology.org/ontologies/OCHV/latest_submission', 'projects': 'https://data.bioontology.org/ontologies/OCHV/projects', 'download': 'https://data.bioontology.org/ontologies/OCHV/download', 'views': 'https://data.bioontology.org/ontologies/OCHV/views', 'analytics': 'https://data.bioontology.org/ontologies/OCHV/analytics', 'ui': 'http://bioportal.bioontology.org/ontologies/OCHV', '@context': {'submissions': 'http://data.bioontology.org/metadata/OntologySubmission', 'properties': 'http://data.bioontology.org/metadata/Property', 'classes': 'http://www.w3.org/2002/07/owl#Class', 'single_class': 'http://www.w3.org/2002/07/owl#Class', 'roots': 'http://www.w3.org/2002/07/owl#Class', 'instances': 'http://data.bioontology.org/metadata/Instance', 'metrics': 'http://data.bioontology.org/metadata/Metrics', 'reviews': 'http://data.bioontology.org/metadata/Review', 'notes': 'http://data.bioontology.org/metadata/Note', 'groups': 'http://data.bioontology.org/metadata/Group', 'categories': 'http://data.bioontology.org/metadata/Category', 'latest_submission': 'http://data.bioontology.org/metadata/OntologySubmission', 'projects': 'http://data.bioontology.org/metadata/Project', 'download': 'http://data.bioontology.org/metadata/Ontology', 'views': 'http://data.bioontology.org/metadata/Ontology', 'analytics': 'http://data.bioontology.org/metadata/Analytics', 'ui': 'http://data.bioontology.org/metadata/Ontology'}}, '@context': {'@vocab': 'http://data.bioontology.org/metadata/', 'acronym': 'http://omv.ontoware.org/2005/05/ontology#acronym', 'name': 'http://omv.ontoware.org/2005/05/ontology#name', 'administeredBy': {'@id': 'http://data.bioontology.org/metadata/User', '@type': '@id'}, 'flat': 'http://data.bioontology.org/metadata/flat', 'summaryOnly': 'http://data.bioontology.org/metadata/summaryOnly', 'ontologyType': {'@id': 'http://data.bioontology.org/metadata/OntologyType', '@type': '@id'}, '@language': 'en'}}\n"
     ]
    }
   ],
   "source": [
    "import requests\n",
    "import json\n",
    "\n",
    "API_KEY = \"53d9893d-8565-4cbe-967b-97161b79b4f4\"  # 여기에 실제 키 넣어줘\n",
    "BASE_URL = \"https://data.bioontology.org\"\n",
    "\n",
    "headers = {\"Authorization\": f\"apikey token={API_KEY}\"}\n",
    "\n",
    "r = requests.get(\"https://data.bioontology.org/ontologies/OCHV\", headers=headers)\n",
    "print(r.status_code)\n",
    "print(r.json())\n"
   ]
  },
  {
   "cell_type": "code",
   "execution_count": 19,
   "metadata": {},
   "outputs": [
    {
     "data": {
      "text/plain": [
       "{'administeredBy': ['https://data.bioontology.org/users/MFAmith',\n",
       "  'https://data.bioontology.org/users/taocui'],\n",
       " 'acronym': 'OCHV',\n",
       " 'name': 'Ontology of Consumer Health Vocabulary',\n",
       " 'summaryOnly': False,\n",
       " 'flat': None,\n",
       " 'ontologyType': 'https://data.bioontology.org/ontology_types/ONTOLOGY',\n",
       " '@id': 'https://data.bioontology.org/ontologies/OCHV',\n",
       " '@type': 'http://data.bioontology.org/metadata/Ontology',\n",
       " 'links': {'submissions': 'https://data.bioontology.org/ontologies/OCHV/submissions',\n",
       "  'properties': 'https://data.bioontology.org/ontologies/OCHV/properties',\n",
       "  'classes': 'https://data.bioontology.org/ontologies/OCHV/classes',\n",
       "  'single_class': 'https://data.bioontology.org/ontologies/OCHV/classes/{class_id}',\n",
       "  'roots': 'https://data.bioontology.org/ontologies/OCHV/classes/roots',\n",
       "  'instances': 'https://data.bioontology.org/ontologies/OCHV/instances',\n",
       "  'metrics': 'https://data.bioontology.org/ontologies/OCHV/metrics',\n",
       "  'reviews': 'https://data.bioontology.org/ontologies/OCHV/reviews',\n",
       "  'notes': 'https://data.bioontology.org/ontologies/OCHV/notes',\n",
       "  'groups': 'https://data.bioontology.org/ontologies/OCHV/groups',\n",
       "  'categories': 'https://data.bioontology.org/ontologies/OCHV/categories',\n",
       "  'latest_submission': 'https://data.bioontology.org/ontologies/OCHV/latest_submission',\n",
       "  'projects': 'https://data.bioontology.org/ontologies/OCHV/projects',\n",
       "  'download': 'https://data.bioontology.org/ontologies/OCHV/download',\n",
       "  'views': 'https://data.bioontology.org/ontologies/OCHV/views',\n",
       "  'analytics': 'https://data.bioontology.org/ontologies/OCHV/analytics',\n",
       "  'ui': 'http://bioportal.bioontology.org/ontologies/OCHV',\n",
       "  '@context': {'submissions': 'http://data.bioontology.org/metadata/OntologySubmission',\n",
       "   'properties': 'http://data.bioontology.org/metadata/Property',\n",
       "   'classes': 'http://www.w3.org/2002/07/owl#Class',\n",
       "   'single_class': 'http://www.w3.org/2002/07/owl#Class',\n",
       "   'roots': 'http://www.w3.org/2002/07/owl#Class',\n",
       "   'instances': 'http://data.bioontology.org/metadata/Instance',\n",
       "   'metrics': 'http://data.bioontology.org/metadata/Metrics',\n",
       "   'reviews': 'http://data.bioontology.org/metadata/Review',\n",
       "   'notes': 'http://data.bioontology.org/metadata/Note',\n",
       "   'groups': 'http://data.bioontology.org/metadata/Group',\n",
       "   'categories': 'http://data.bioontology.org/metadata/Category',\n",
       "   'latest_submission': 'http://data.bioontology.org/metadata/OntologySubmission',\n",
       "   'projects': 'http://data.bioontology.org/metadata/Project',\n",
       "   'download': 'http://data.bioontology.org/metadata/Ontology',\n",
       "   'views': 'http://data.bioontology.org/metadata/Ontology',\n",
       "   'analytics': 'http://data.bioontology.org/metadata/Analytics',\n",
       "   'ui': 'http://data.bioontology.org/metadata/Ontology'}},\n",
       " '@context': {'@vocab': 'http://data.bioontology.org/metadata/',\n",
       "  'acronym': 'http://omv.ontoware.org/2005/05/ontology#acronym',\n",
       "  'name': 'http://omv.ontoware.org/2005/05/ontology#name',\n",
       "  'administeredBy': {'@id': 'http://data.bioontology.org/metadata/User',\n",
       "   '@type': '@id'},\n",
       "  'flat': 'http://data.bioontology.org/metadata/flat',\n",
       "  'summaryOnly': 'http://data.bioontology.org/metadata/summaryOnly',\n",
       "  'ontologyType': {'@id': 'http://data.bioontology.org/metadata/OntologyType',\n",
       "   '@type': '@id'},\n",
       "  '@language': 'en'}}"
      ]
     },
     "execution_count": 19,
     "metadata": {},
     "output_type": "execute_result"
    }
   ],
   "source": [
    "r.json()"
   ]
  },
  {
   "cell_type": "code",
   "execution_count": null,
   "metadata": {},
   "outputs": [],
   "source": []
  },
  {
   "cell_type": "code",
   "execution_count": null,
   "metadata": {},
   "outputs": [],
   "source": []
  }
 ],
 "metadata": {
  "kernelspec": {
   "display_name": "yaib",
   "language": "python",
   "name": "python3"
  },
  "language_info": {
   "codemirror_mode": {
    "name": "ipython",
    "version": 3
   },
   "file_extension": ".py",
   "mimetype": "text/x-python",
   "name": "python",
   "nbconvert_exporter": "python",
   "pygments_lexer": "ipython3",
   "version": "3.10.16"
  }
 },
 "nbformat": 4,
 "nbformat_minor": 2
}
