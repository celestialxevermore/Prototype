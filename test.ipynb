{
 "cells": [
  {
   "cell_type": "code",
   "execution_count": 1,
   "id": "6be894aa",
   "metadata": {},
   "outputs": [
    {
     "name": "stderr",
     "output_type": "stream",
     "text": [
      "/home/eungyeop/anaconda3/envs/featllm/lib/python3.8/site-packages/tqdm/auto.py:21: TqdmWarning: IProgress not found. Please update jupyter and ipywidgets. See https://ipywidgets.readthedocs.io/en/stable/user_install.html\n",
      "  from .autonotebook import tqdm as notebook_tqdm\n"
     ]
    }
   ],
   "source": [
    "import os, copy, argparse\n",
    "from pathlib import Path\n",
    "import numpy as np\n",
    "import torch\n",
    "import matplotlib.pyplot as plt\n",
    "from sklearn.manifold import TSNE\n",
    "# 현재 스크립트 파일 위치\n",
    "\n",
    "import sys\n",
    "\n",
    "from utils.affinity import BasisSlotAffinityGAT\n",
    "from models.TabularFLM_S import Model\n",
    "from dataset.data_dataloaders import prepare_embedding_dataloaders\n",
    "from utils.util import fix_seed\n"
   ]
  },
  {
   "cell_type": "code",
   "execution_count": 9,
   "id": "3fe0b825",
   "metadata": {},
   "outputs": [],
   "source": [
    "class MVisualizer:\n",
    "    def __init__(self, ckpt_path: str, device='cuda', auto_del_feat=None):\n",
    "        self.device = torch.device(device if torch.cuda.is_available() else 'cpu')\n",
    "        ckpt = torch.load(ckpt_path, map_location=self.device)\n",
    "        self.args = ckpt['args']\n",
    "\n",
    "        if auto_del_feat is not None:\n",
    "            self.args.del_feat = auto_del_feat\n",
    "            print(f\"[INFO] Applied del_feat from filename: {auto_del_feat}\")\n",
    "\n",
    "        # === checkpoint args 보정 ===\n",
    "        if not hasattr(self.args, 'n_heads'):\n",
    "            self.args.n_heads = 8\n",
    "        if not hasattr(self.args, 'k_basis'):\n",
    "            self.args.k_basis = 8\n",
    "        if not hasattr(self.args, 'slot_kernel_rank'):\n",
    "            self.args.slot_kernel_rank = self.args.k_basis\n",
    "\n",
    "        # 모델 생성\n",
    "        self.model = Model(\n",
    "            self.args,\n",
    "            self.args.input_dim,\n",
    "            self.args.hidden_dim,\n",
    "            self.args.output_dim,\n",
    "            self.args.dropout_rate,\n",
    "            self.args.llm_model,\n",
    "            \"viz\",\n",
    "            \"viz\"\n",
    "        ).to(self.device)\n",
    "\n",
    "        # state_dict 로드\n",
    "        sd = ckpt['model_state_dict']\n",
    "        sd = {k: v for k, v in sd.items() if 'alpha_ema' not in k}\n",
    "        missing, unexpected = self.model.load_state_dict(sd, strict=False)\n",
    "        if missing:\n",
    "            print(\"[INFO] Missing keys:\", missing)\n",
    "        if unexpected:\n",
    "            print(\"[INFO] Unexpected keys:\", unexpected)\n",
    "\n",
    "        self.model.eval()\n",
    "        self.num_layers = int(getattr(self.args, 'num_basis_layers', 3))\n",
    "        self.num_heads  = int(self.args.n_heads)\n",
    "        self.num_slots  = int(self.args.k_basis)\n",
    "\n",
    "        # === U_param 직접 보관 (checkpoint에서 바로 추출) ===\n",
    "        self.U_param = None\n",
    "        U_keys = [k for k in sd.keys() if \"U_param\" in k]\n",
    "        if U_keys:\n",
    "            self.U_param = sd[U_keys[0]].detach().cpu()\n",
    "            print(f\"[INFO] Found U_param in state_dict: {U_keys[0]}, shape={self.U_param.shape}\")\n",
    "        else:\n",
    "            print(\"[WARN] No U_param found in checkpoint.\")\n",
    "\n",
    "    # === U_param 시각화 ===\n",
    "    def plot_U_heatmap(self, save_path=None):\n",
    "        \"\"\"\n",
    "        U_param (after softplus) 시각화\n",
    "        - 전체 histogram\n",
    "        - Slot × (K×R) heatmap\n",
    "        - Slot별 histogram subplot\n",
    "        \"\"\"\n",
    "        import matplotlib.pyplot as plt\n",
    "        import seaborn as sns\n",
    "\n",
    "        if self.U_param is None:\n",
    "            print(\"[WARN] U_param not available.\")\n",
    "            return\n",
    "\n",
    "        # softplus 적용\n",
    "        U = torch.nn.functional.softplus(self.U_param)  # [M,K,R]\n",
    "        M, K, R = U.shape\n",
    "\n",
    "        # (1) 전체 분포\n",
    "        plt.figure(figsize=(5, 3))\n",
    "        plt.hist(U.numpy().ravel(), bins=50, color=\"steelblue\")\n",
    "        plt.title(\"Distribution of U values (all slots)\")\n",
    "        if save_path:\n",
    "            plt.savefig(str(save_path).replace(\".png\", \"_global_hist.png\"),\n",
    "                        dpi=250, bbox_inches=\"tight\")\n",
    "        plt.close()\n",
    "\n",
    "        # (2) Slot × (K×R) heatmap (각 slot을 행으로)\n",
    "        U_2d = U.reshape(M, K*R).numpy()  # [M, K*R]\n",
    "        plt.figure(figsize=(max(8, K*R/2), max(4, M)))\n",
    "        sns.heatmap(U_2d, cmap=\"viridis\", cbar=True)\n",
    "        plt.title(\"U values per Slot (flattened K×R)\")\n",
    "        plt.xlabel(\"K×R dimension\")\n",
    "        plt.ylabel(\"Slot m\")\n",
    "        if save_path:\n",
    "            plt.savefig(str(save_path).replace(\".png\", \"_heatmap.png\"),\n",
    "                        dpi=250, bbox_inches=\"tight\")\n",
    "        plt.close()\n",
    "\n",
    "        # (3) Slot별 histogram subplot\n",
    "        fig, axes = plt.subplots(1, M, figsize=(3*M, 3), sharey=True)\n",
    "        if M == 1:\n",
    "            axes = [axes]\n",
    "        for m in range(M):\n",
    "            axes[m].hist(U[m].numpy().ravel(), bins=30, color=\"steelblue\")\n",
    "            axes[m].set_title(f\"Slot {m}\")\n",
    "            axes[m].set_xlabel(\"U values\")\n",
    "        axes[0].set_ylabel(\"Frequency\")\n",
    "        plt.tight_layout()\n",
    "        if save_path:\n",
    "            plt.savefig(str(save_path).replace(\".png\", \"_slotwise.png\"),\n",
    "                        dpi=250, bbox_inches=\"tight\")\n",
    "        plt.close()\n",
    "    def plot_U_per_slot(self, save_path=None):\n",
    "        \"\"\"\n",
    "        각 Slot(M)별 U_param 분포를 히스토그램으로 시각화\n",
    "        \"\"\"\n",
    "        import matplotlib.pyplot as plt\n",
    "\n",
    "        if self.U_param is None:\n",
    "            print(\"[WARN] U_param not available.\")\n",
    "            return\n",
    "\n",
    "        # softplus 적용 (forward와 동일)\n",
    "        U = torch.nn.functional.softplus(self.U_param).cpu().numpy()  # [M,K,R]\n",
    "        M, K, R = U.shape\n",
    "\n",
    "        # === subplot grid ===\n",
    "        fig, axes = plt.subplots(1, M, figsize=(M*3, 3), sharey=True)\n",
    "        if M == 1:\n",
    "            axes = [axes]\n",
    "\n",
    "        for m in range(M):\n",
    "            ax = axes[m]\n",
    "            vals = U[m].ravel()  # [K*R]\n",
    "            ax.hist(vals, bins=20, color=\"steelblue\", alpha=0.8)\n",
    "            ax.set_title(f\"Slot {m}\", fontsize=10)\n",
    "            ax.set_xlabel(\"U values\")\n",
    "            if m == 0:\n",
    "                ax.set_ylabel(\"Frequency\")\n",
    "\n",
    "        plt.suptitle(\"U_param distribution per Slot\", fontsize=14)\n",
    "        plt.tight_layout(rect=[0,0,1,0.95])\n",
    "\n",
    "        if save_path:\n",
    "            plt.savefig(save_path, dpi=250, bbox_inches=\"tight\")\n",
    "        plt.close(fig)\n",
    "\n"
   ]
  },
  {
   "cell_type": "code",
   "execution_count": 10,
   "id": "625c9841",
   "metadata": {},
   "outputs": [
    {
     "name": "stdout",
     "output_type": "stream",
     "text": [
      "[INFO] Found U_param in state_dict: basis_affinity.U_param, shape=torch.Size([8, 8, 8])\n"
     ]
    }
   ],
   "source": [
    "viz = MVisualizer(\"/storage/personal/eungyeop/experiments/checkpoints/gpt2_mean/heart_target_1+heart_target_2+heart_target_3+heart_target_4/Pre/TabularFLM_attn-gat_v1_num_basis_2_num_shared_layers_2_num_basis_layers_2_scorer_slot_no_self_loop_False/42/best_20250923_012453.pt\")\n",
    "\n",
    "# 저장 없이 바로 확인\n",
    "viz.plot_U_heatmap()\n",
    "\n",
    "# 파일로 저장\n",
    "viz.plot_U_heatmap(\"Uparam_heatmap.png\")\n",
    "viz.plot_U_per_slot(\"U_param.png\")"
   ]
  },
  {
   "cell_type": "code",
   "execution_count": 17,
   "id": "bba2df32",
   "metadata": {},
   "outputs": [],
   "source": [
    "N = 13 \n",
    "M = 6 \n",
    "K = 8 \n",
    "S = torch.softmax(torch.randn(N, M),dim=-1) \n",
    "G = torch.randn(M, K, K)"
   ]
  },
  {
   "cell_type": "code",
   "execution_count": 22,
   "id": "1d27fc77",
   "metadata": {},
   "outputs": [
    {
     "data": {
      "text/plain": [
       "torch.Size([13, 6, 1])"
      ]
     },
     "execution_count": 22,
     "metadata": {},
     "output_type": "execute_result"
    }
   ],
   "source": [
    "S1 = S.unsqueeze(-1)\n",
    "S1.shape"
   ]
  },
  {
   "cell_type": "code",
   "execution_count": 24,
   "id": "38ebb583",
   "metadata": {},
   "outputs": [],
   "source": [
    "S2 = S1.permute(1,2,0)"
   ]
  },
  {
   "cell_type": "code",
   "execution_count": 34,
   "id": "560b49cb",
   "metadata": {},
   "outputs": [
    {
     "name": "stdout",
     "output_type": "stream",
     "text": [
      "torch.Size([6, 13, 13])\n"
     ]
    }
   ],
   "source": [
    "import torch\n",
    "torch.manual_seed(0)\n",
    "\n",
    "N = 13\n",
    "M = 6\n",
    "K = 8\n",
    "\n",
    "S = torch.softmax(torch.randn(N, M), dim=-1)  # [N, M]\n",
    "G = torch.randn(M, K, K)                      # [M, K, K]\n",
    "\n",
    "# 1) 슬롯-우선으로 S 정렬: [M, N]\n",
    "S_mn = S.permute(1, 0)                        # [M, N]\n",
    "\n",
    "# 2) 각 슬롯 m에 대해 S^(m) = S[:,m]을 K축으로 브로드캐스트 → [M, N, K]\n",
    "#    (모든 열이 동일한 N×K 행렬이 됨)\n",
    "S_mnk = S_mn.unsqueeze(-1).expand(M, N, K)    # [M, N, K]\n",
    "\n",
    "# 3) 배치 matmul로 A_slot[m] = S^(m) G^(m) (S^(m))^T → [M, N, N]\n",
    "left  = torch.matmul(S_mnk, G)                # [M, N, K]\n",
    "A_slot = torch.matmul(left, S_mnk.transpose(1, 2))  # [M, N, N]\n",
    "\n",
    "print(A_slot.shape)  # torch.Size([6, 13, 13])\n"
   ]
  },
  {
   "cell_type": "code",
   "execution_count": 35,
   "id": "7b781449",
   "metadata": {},
   "outputs": [
    {
     "data": {
      "text/plain": [
       "(True, 4.76837158203125e-07)"
      ]
     },
     "execution_count": 35,
     "metadata": {},
     "output_type": "execute_result"
    }
   ],
   "source": [
    "import torch\n",
    "torch.manual_seed(0)\n",
    "\n",
    "N = 13\n",
    "M = 6\n",
    "K = 8\n",
    "\n",
    "S = torch.softmax(torch.randn(N, M), dim=-1)  # [N, M]\n",
    "G = torch.randn(M, K, K)                      # [M, K, K]\n",
    "\n",
    "# 1) 슬롯-우선으로 S 정렬: [M, N]\n",
    "S_mn = S.permute(1, 0)                        # [M, N]\n",
    "\n",
    "# 2) 각 슬롯 m에 대해 S^(m) = S[:,m]을 K축으로 브로드캐스트 → [M, N, K]\n",
    "#    (모든 열이 동일한 N×K 행렬이 됨)\n",
    "S_mnk = S_mn.unsqueeze(-1).expand(M, N, K)    # [M, N, K]\n",
    "\n",
    "# 3) 배치 matmul로 A_slot[m] = S^(m) G^(m) (S^(m))^T → [M, N, N]\n",
    "left  = torch.matmul(S_mnk, G)                # [M, N, K]\n",
    "A_slot_matmul = torch.matmul(left, S_mnk.transpose(1, 2))  # [M, N, N]\n",
    "A_slot_einsum = torch.einsum(\"nm,mkl,jm->mnj\", S, G, S)\n",
    "all_equal = torch.allclose(A_slot_matmul, A_slot_einsum, atol=1e-6)\n",
    "max_abs_diff = (A_slot_matmul - A_slot_einsum).abs().max().item()\n",
    "\n",
    "all_equal, max_abs_diff\n"
   ]
  },
  {
   "cell_type": "code",
   "execution_count": 36,
   "id": "c0d86022",
   "metadata": {},
   "outputs": [
    {
     "name": "stdout",
     "output_type": "stream",
     "text": [
      "True\n"
     ]
    }
   ],
   "source": [
    "import torch\n",
    "B,H,M,N,K = 1,2,3,4,5\n",
    "Dx = torch.randn(B,H,N,N)\n",
    "Dy = torch.randn(B,M,K,K)\n",
    "Pi = torch.rand(B,H,M,N,K)\n",
    "\n",
    "# 올바른 einsum\n",
    "cross_e = torch.einsum(\"bhij,bmkl,bhmjl->bhmik\", Dx, Dy, Pi)\n",
    "\n",
    "# 느리지만 정답인 이중 for-루프\n",
    "cross_lo = torch.zeros(B,H,M,N,K)\n",
    "for b in range(B):\n",
    "  for h in range(H):\n",
    "    for m in range(M):\n",
    "      for i in range(N):\n",
    "        for k in range(K):\n",
    "          s = 0.0\n",
    "          for j in range(N):\n",
    "            for l in range(K):\n",
    "              s += Dx[b,h,i,j] * Dy[b,m,k,l] * Pi[b,h,m,j,l]\n",
    "          cross_lo[b,h,m,i,k] = s\n",
    "\n",
    "print(torch.allclose(cross_e, cross_lo, atol=1e-5))  # → True 여야 함\n"
   ]
  },
  {
   "cell_type": "code",
   "execution_count": null,
   "id": "ebd54fd0",
   "metadata": {},
   "outputs": [
    {
     "ename": "",
     "evalue": "",
     "output_type": "error",
     "traceback": [
      "\u001b[1;31mThe Kernel crashed while executing code in the current cell or a previous cell. \n",
      "\u001b[1;31mPlease review the code in the cell(s) to identify a possible cause of the failure. \n",
      "\u001b[1;31mClick <a href='https://aka.ms/vscodeJupyterKernelCrash'>here</a> for more info. \n",
      "\u001b[1;31mView Jupyter <a href='command:jupyter.viewOutput'>log</a> for further details."
     ]
    }
   ],
   "source": []
  },
  {
   "cell_type": "code",
   "execution_count": null,
   "id": "f5c82b72",
   "metadata": {},
   "outputs": [],
   "source": []
  }
 ],
 "metadata": {
  "kernelspec": {
   "display_name": "featllm",
   "language": "python",
   "name": "python3"
  },
  "language_info": {
   "codemirror_mode": {
    "name": "ipython",
    "version": 3
   },
   "file_extension": ".py",
   "mimetype": "text/x-python",
   "name": "python",
   "nbconvert_exporter": "python",
   "pygments_lexer": "ipython3",
   "version": "3.8.20"
  }
 },
 "nbformat": 4,
 "nbformat_minor": 5
}
